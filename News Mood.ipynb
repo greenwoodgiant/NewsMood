{
 "cells": [
  {
   "cell_type": "markdown",
   "metadata": {},
   "source": [
    "# NewsMood Trends:\n",
    "\n",
    "- From the dataframe we can see that the news networks tend to stay completely neutral in their sentiment, with a fairly common thread of 0's for Positive / Negative and 1's for Neutral. This is backed up by the solid line across the 0 mark for the composite score scatterplot \n",
    "\n",
    "- While it's difficult to detect many patterns between the networks on the scatterplot, the differences are much more pronounced in the aggregate bar chart. The BBC and CBS both have significantly positive aggregates, while CNN, Fox, and NYT all hover between -0.05 to +0.05. As the BBC and CBS are general broadcast networks while the others are more specialized in current affairs, it makes sense that their twitter accounts would register as more \"positive\", as they likely are tweeting about popular entertainment more often than the others.\n",
    "\n",
    "- I found it interesting that CNN was more negative than Fox News, which has cultivated a reputation for being quite antagonistic. This might be attributed to the shift in political power from the 2016 election, but I would want to see an aggregate Vader analysis of each account's tweets from this point in Obama's first term in order to really gauge that."
   ]
  },
  {
   "cell_type": "markdown",
   "metadata": {},
   "source": [
    "# Dependencies / Keys"
   ]
  },
  {
   "cell_type": "code",
   "execution_count": 27,
   "metadata": {
    "collapsed": true
   },
   "outputs": [],
   "source": [
    "import matplotlib.pyplot as plt\n",
    "import pandas as pd\n",
    "import requests as req\n",
    "import numpy as np\n",
    "import tweepy\n",
    "from pandas.io.json import json_normalize as jnorm"
   ]
  },
  {
   "cell_type": "code",
   "execution_count": 6,
   "metadata": {
    "collapsed": true
   },
   "outputs": [],
   "source": [
    "# Import and Initialize Sentiment Analyzer\n",
    "from vaderSentiment.vaderSentiment import SentimentIntensityAnalyzer\n",
    "analyzer = SentimentIntensityAnalyzer()"
   ]
  },
  {
   "cell_type": "code",
   "execution_count": 7,
   "metadata": {
    "collapsed": true
   },
   "outputs": [],
   "source": [
    "# Twitter API Keys\n",
    "consumer_key = \"xxx\"\n",
    "consumer_secret = \"xxx\"\n",
    "access_token = \"xxx\"\n",
    "access_token_secret = \"xxx\"\n",
    "\n",
    "# Setup Tweepy API Authentication\n",
    "auth = tweepy.OAuthHandler(consumer_key, consumer_secret)\n",
    "auth.set_access_token(access_token, access_token_secret)\n",
    "api = tweepy.API(auth, parser=tweepy.parsers.JSONParser())"
   ]
  },
  {
   "cell_type": "markdown",
   "metadata": {},
   "source": [
    "# Pull Tweets with Tweepy"
   ]
  },
  {
   "cell_type": "code",
   "execution_count": 79,
   "metadata": {
    "collapsed": true
   },
   "outputs": [],
   "source": [
    "# Set list of usernames to get tweets for\n",
    "users = [\"@BBC\", \"@CBS\", \"@CNN\", \"@FoxNews\", \"@nytimes\"]\n",
    "\n",
    "# Create empty data list to add a dictionary of info per tweet\n",
    "data = []\n",
    "# Create empty data list to add a dictionary of composites per username\n",
    "cmp_data = []\n",
    "\n",
    "for user in users:\n",
    "    # Get 100 tweets from their timeline\n",
    "    tweets = api.user_timeline(user,count=100)\n",
    "    \n",
    "    # Create empty lists for composite score scatterplot\n",
    "    cmp_scores = []\n",
    "    \n",
    "    for tweet in tweets:\n",
    "        # Pull tweet's text and date\n",
    "        text = tweet[\"text\"]\n",
    "        date = tweet[\"created_at\"]\n",
    "        \n",
    "        # Run Vader analysis\n",
    "        cmp = analyzer.polarity_scores(text)[\"compound\"]\n",
    "        pos = analyzer.polarity_scores(text)[\"pos\"]\n",
    "        neu = analyzer.polarity_scores(text)[\"neu\"]\n",
    "        neg = analyzer.polarity_scores(text)[\"neg\"]\n",
    "        \n",
    "        # Create dictionary listing for tweet\n",
    "        user_data = {\"Handle\":user,\n",
    "                     \"Date\":date,\n",
    "                     \"Text\":text,\n",
    "                     \"Compound\":cmp,\n",
    "                     \"Positive\":pos,\n",
    "                     \"Neutral\":neu,\n",
    "                     \"Negative\":neg}\n",
    "        # Add dictionary to data list\n",
    "        data.append(user_data)\n",
    "    \n",
    "        # Create list of composite scores\n",
    "        cmp_scores.append(cmp)\n",
    "    \n",
    "    # Create dictionary with list of composite scores\n",
    "    cmp_data.append({\"User\":user,\"Compound\":cmp_scores})"
   ]
  },
  {
   "cell_type": "markdown",
   "metadata": {},
   "source": [
    "# Create DataFrame"
   ]
  },
  {
   "cell_type": "code",
   "execution_count": 72,
   "metadata": {},
   "outputs": [
    {
     "data": {
      "text/html": [
       "<div>\n",
       "<style scoped>\n",
       "    .dataframe tbody tr th:only-of-type {\n",
       "        vertical-align: middle;\n",
       "    }\n",
       "\n",
       "    .dataframe tbody tr th {\n",
       "        vertical-align: top;\n",
       "    }\n",
       "\n",
       "    .dataframe thead th {\n",
       "        text-align: right;\n",
       "    }\n",
       "</style>\n",
       "<table border=\"1\" class=\"dataframe\">\n",
       "  <thead>\n",
       "    <tr style=\"text-align: right;\">\n",
       "      <th></th>\n",
       "      <th>Handle</th>\n",
       "      <th>Date</th>\n",
       "      <th>Text</th>\n",
       "      <th>Compound</th>\n",
       "      <th>Positive</th>\n",
       "      <th>Neutral</th>\n",
       "      <th>Negative</th>\n",
       "    </tr>\n",
       "  </thead>\n",
       "  <tbody>\n",
       "    <tr>\n",
       "      <th>0</th>\n",
       "      <td>@BBC</td>\n",
       "      <td>Thu Mar 08 20:33:04 +0000 2018</td>\n",
       "      <td>Jack Jarvis and Victor McDade are back for ano...</td>\n",
       "      <td>0.4019</td>\n",
       "      <td>0.144</td>\n",
       "      <td>0.856</td>\n",
       "      <td>0.000</td>\n",
       "    </tr>\n",
       "    <tr>\n",
       "      <th>1</th>\n",
       "      <td>@BBC</td>\n",
       "      <td>Thu Mar 08 20:03:04 +0000 2018</td>\n",
       "      <td>Lucy and Lee are back! 🙌🎉\\n\\n#NotGoingOut | 9p...</td>\n",
       "      <td>0.0000</td>\n",
       "      <td>0.000</td>\n",
       "      <td>1.000</td>\n",
       "      <td>0.000</td>\n",
       "    </tr>\n",
       "    <tr>\n",
       "      <th>2</th>\n",
       "      <td>@BBC</td>\n",
       "      <td>Thu Mar 08 18:00:06 +0000 2018</td>\n",
       "      <td>What advice would YOU give your younger self? ...</td>\n",
       "      <td>0.0000</td>\n",
       "      <td>0.000</td>\n",
       "      <td>1.000</td>\n",
       "      <td>0.000</td>\n",
       "    </tr>\n",
       "    <tr>\n",
       "      <th>3</th>\n",
       "      <td>@BBC</td>\n",
       "      <td>Thu Mar 08 17:30:11 +0000 2018</td>\n",
       "      <td>In recognition of International Women’s Day, a...</td>\n",
       "      <td>-0.1027</td>\n",
       "      <td>0.159</td>\n",
       "      <td>0.664</td>\n",
       "      <td>0.177</td>\n",
       "    </tr>\n",
       "    <tr>\n",
       "      <th>4</th>\n",
       "      <td>@BBC</td>\n",
       "      <td>Thu Mar 08 17:00:09 +0000 2018</td>\n",
       "      <td>🔬 More than half of the UK can't name a famous...</td>\n",
       "      <td>0.0000</td>\n",
       "      <td>0.000</td>\n",
       "      <td>1.000</td>\n",
       "      <td>0.000</td>\n",
       "    </tr>\n",
       "  </tbody>\n",
       "</table>\n",
       "</div>"
      ],
      "text/plain": [
       "  Handle                            Date  \\\n",
       "0   @BBC  Thu Mar 08 20:33:04 +0000 2018   \n",
       "1   @BBC  Thu Mar 08 20:03:04 +0000 2018   \n",
       "2   @BBC  Thu Mar 08 18:00:06 +0000 2018   \n",
       "3   @BBC  Thu Mar 08 17:30:11 +0000 2018   \n",
       "4   @BBC  Thu Mar 08 17:00:09 +0000 2018   \n",
       "\n",
       "                                                Text  Compound  Positive  \\\n",
       "0  Jack Jarvis and Victor McDade are back for ano...    0.4019     0.144   \n",
       "1  Lucy and Lee are back! 🙌🎉\\n\\n#NotGoingOut | 9p...    0.0000     0.000   \n",
       "2  What advice would YOU give your younger self? ...    0.0000     0.000   \n",
       "3  In recognition of International Women’s Day, a...   -0.1027     0.159   \n",
       "4  🔬 More than half of the UK can't name a famous...    0.0000     0.000   \n",
       "\n",
       "   Neutral  Negative  \n",
       "0    0.856     0.000  \n",
       "1    1.000     0.000  \n",
       "2    1.000     0.000  \n",
       "3    0.664     0.177  \n",
       "4    1.000     0.000  "
      ]
     },
     "execution_count": 72,
     "metadata": {},
     "output_type": "execute_result"
    }
   ],
   "source": [
    "# Create a dataframe from the collected data\n",
    "data_df = pd.DataFrame(data)\n",
    "\n",
    "# Reorganize columns\n",
    "data_df = data_df[[\"Handle\",\"Date\",\"Text\",\"Compound\",\"Positive\",\"Neutral\",\"Negative\"]]\n",
    "\n",
    "# Save to CSV\n",
    "data_df.to_csv(\"news_mood.csv\")\n",
    "\n",
    "# Show head to confirm formatting\n",
    "data_df.head()"
   ]
  },
  {
   "cell_type": "markdown",
   "metadata": {},
   "source": [
    "# Create Scatterplot"
   ]
  },
  {
   "cell_type": "code",
   "execution_count": 81,
   "metadata": {},
   "outputs": [
    {
     "data": {
      "image/png": "[encoded data removed]",
      "text/plain": [
       "<matplotlib.figure.Figure at 0x22a5d717780>"
      ]
     },
     "metadata": {},
     "output_type": "display_data"
    }
   ],
   "source": [
    "# Create a list of 0-100 for \"Tweets Ago\" x-axis\n",
    "x_values = list(range(0,100))\n",
    "\n",
    "# Plot each list of composite scores\n",
    "plt.scatter(x_values,cmp_data[0][\"Compound\"],facecolors=\"red\",edgecolor=\"black\")\n",
    "plt.scatter(x_values,cmp_data[1][\"Compound\"],facecolors=\"blue\",edgecolor=\"black\")\n",
    "plt.scatter(x_values,cmp_data[2][\"Compound\"],facecolors=\"yellow\",edgecolor=\"black\")\n",
    "plt.scatter(x_values,cmp_data[3][\"Compound\"],facecolors=\"green\",edgecolor=\"black\")\n",
    "plt.scatter(x_values,cmp_data[4][\"Compound\"],facecolors=\"purple\",edgecolor=\"black\")\n",
    "\n",
    "# Set title and axis labels\n",
    "plt.title(\"Sentiment Analysis of Media Tweets (3.8.18)\")\n",
    "plt.xlabel(\"Tweets Ago\")\n",
    "plt.ylabel(\"Tweet Polarity\")\n",
    "\n",
    "# Set legend to outside the plot, save plot to .png\n",
    "plt.legend(users,bbox_to_anchor=(1,1))\n",
    "plt.savefig(\"media_tweets_scatter.png\")\n",
    "plt.show()"
   ]
  },
  {
   "cell_type": "markdown",
   "metadata": {},
   "source": [
    "# Create Aggregate Bar Chart"
   ]
  },
  {
   "cell_type": "code",
   "execution_count": 89,
   "metadata": {},
   "outputs": [
    {
     "data": {
      "image/png": "[encoded data removed]",
      "text/plain": [
       "<matplotlib.figure.Figure at 0x22a5c34ea90>"
      ]
     },
     "metadata": {},
     "output_type": "display_data"
    }
   ],
   "source": [
    "# Create list of average composite score from each user\n",
    "averages = [np.mean(cmp_data[x][\"Compound\"]) for x in list(range(5))]\n",
    "\n",
    "# Chart each average, keeping the same colors from the scatterplot\n",
    "chart = plt.bar(users,averages,)\n",
    "chart[0].set_color(\"red\")\n",
    "chart[1].set_color(\"blue\")\n",
    "chart[2].set_color(\"yellow\")\n",
    "chart[3].set_color(\"green\")\n",
    "chart[4].set_color(\"purple\")\n",
    "\n",
    "#Create title and labels, save to .png\n",
    "plt.title(\"Overall Media Sentiment based on Twitter (3.8.18)\")\n",
    "plt.ylabel(\"Aggregate Polarity (Last 100 Tweets)\")\n",
    "plt.savefig(\"media_tweets_bar.png\")\n",
    "plt.show()"
   ]
  },
  {
   "cell_type": "code",
   "execution_count": null,
   "metadata": {
    "collapsed": true
   },
   "outputs": [],
   "source": []
  }
 ],
 "metadata": {
  "kernelspec": {
   "display_name": "Python 3",
   "language": "python",
   "name": "python3"
  },
  "language_info": {
   "codemirror_mode": {
    "name": "ipython",
    "version": 3
   },
   "file_extension": ".py",
   "mimetype": "text/x-python",
   "name": "python",
   "nbconvert_exporter": "python",
   "pygments_lexer": "ipython3",
   "version": "3.6.3"
  }
 },
 "nbformat": 4,
 "nbformat_minor": 2
}
